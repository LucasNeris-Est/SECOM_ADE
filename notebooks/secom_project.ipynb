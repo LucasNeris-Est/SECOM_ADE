{
 "cells": [
  {
   "cell_type": "markdown",
   "metadata": {},
   "source": [
    "# Projeto Final - Aprendizado de Máquina\n",
    "## Análise do Dataset SECOM\n",
    "\n",
    "Este notebook implementa o pipeline solicitado no trabalho final da disciplina.\n",
    "\n",
    "### Estrutura:\n",
    "1. Carregamento e exploração dos dados (EDA)\n",
    "2. Pré-processamento (imputação, escalonamento, remoção de colunas constantes)\n",
    "3. Redução de dimensionalidade (PCA)\n",
    "4. Modelagem com três classificadores (Logistic Regression, Random Forest, SVM)\n",
    "5. Avaliação com 10-fold cross-validation e conjunto de teste\n",
    "6. Métricas: Acurácia, F1-score, Balanced Accuracy, ROC-AUC\n",
    "7. Conclusões\n"
   ]
  },
  {
   "cell_type": "code",
   "execution_count": 101,
   "metadata": {},
   "outputs": [],
   "source": [
    "# Importação de bibliotecas principais\n",
    "import pandas as pd\n",
    "import numpy as np\n",
    "import matplotlib.pyplot as plt\n",
    "import seaborn as sns\n",
    "\n",
    "from sklearn.model_selection import train_test_split, GridSearchCV, StratifiedKFold, cross_validate\n",
    "from sklearn.preprocessing import StandardScaler\n",
    "from sklearn.decomposition import PCA\n",
    "from sklearn.impute import SimpleImputer\n",
    "from sklearn.preprocessing import StandardScaler\n",
    "from sklearn.pipeline import Pipeline\n",
    "from sklearn.compose import ColumnTransformer\n",
    "from sklearn.feature_selection import VarianceThreshold\n",
    "from sklearn.metrics import confusion_matrix, classification_report, accuracy_score, f1_score, roc_auc_score, balanced_accuracy_score\n",
    "from sklearn.discriminant_analysis import LinearDiscriminantAnalysis\n",
    "from sklearn.base import BaseEstimator, TransformerMixin\n",
    "\n",
    "from sklearn.linear_model import LogisticRegression\n",
    "from sklearn.ensemble import RandomForestClassifier\n",
    "from sklearn.svm import SVC\n",
    "\n",
    "from lightgbm import LGBMClassifier\n"
   ]
  },
  {
   "cell_type": "markdown",
   "metadata": {},
   "source": [
    "## 1. Carregamento e Exploração dos Dados (EDA)\n",
    "Carregaremos o dataset SECOM.\n",
    "- Arquivo `secom.data` contém as features\n",
    "- Arquivo `secom_labels.data` contém as labels (-1 = Pass, 1 = Fail)\n",
    "\n",
    "Além disso, já e feito a divisão entre treino e teste para evitar data leakage."
   ]
  },
  {
   "cell_type": "code",
   "execution_count": 92,
   "metadata": {},
   "outputs": [
    {
     "name": "stdout",
     "output_type": "stream",
     "text": [
      "Shape X: (1567, 590)\n",
      "Shape y: (1567,)\n",
      "Classes: 0\n",
      "-1    1463\n",
      " 1     104\n",
      "Name: count, dtype: int64\n"
     ]
    },
    {
     "data": {
      "text/html": [
       "<div>\n",
       "<style scoped>\n",
       "    .dataframe tbody tr th:only-of-type {\n",
       "        vertical-align: middle;\n",
       "    }\n",
       "\n",
       "    .dataframe tbody tr th {\n",
       "        vertical-align: top;\n",
       "    }\n",
       "\n",
       "    .dataframe thead th {\n",
       "        text-align: right;\n",
       "    }\n",
       "</style>\n",
       "<table border=\"1\" class=\"dataframe\">\n",
       "  <thead>\n",
       "    <tr style=\"text-align: right;\">\n",
       "      <th></th>\n",
       "      <th>0</th>\n",
       "      <th>1</th>\n",
       "      <th>2</th>\n",
       "      <th>3</th>\n",
       "      <th>4</th>\n",
       "      <th>5</th>\n",
       "      <th>6</th>\n",
       "      <th>7</th>\n",
       "      <th>8</th>\n",
       "      <th>9</th>\n",
       "      <th>...</th>\n",
       "      <th>580</th>\n",
       "      <th>581</th>\n",
       "      <th>582</th>\n",
       "      <th>583</th>\n",
       "      <th>584</th>\n",
       "      <th>585</th>\n",
       "      <th>586</th>\n",
       "      <th>587</th>\n",
       "      <th>588</th>\n",
       "      <th>589</th>\n",
       "    </tr>\n",
       "  </thead>\n",
       "  <tbody>\n",
       "    <tr>\n",
       "      <th>0</th>\n",
       "      <td>3030.93</td>\n",
       "      <td>2564.00</td>\n",
       "      <td>2187.7333</td>\n",
       "      <td>1411.1265</td>\n",
       "      <td>1.3602</td>\n",
       "      <td>100.0</td>\n",
       "      <td>97.6133</td>\n",
       "      <td>0.1242</td>\n",
       "      <td>1.5005</td>\n",
       "      <td>0.0162</td>\n",
       "      <td>...</td>\n",
       "      <td>NaN</td>\n",
       "      <td>NaN</td>\n",
       "      <td>0.5005</td>\n",
       "      <td>0.0118</td>\n",
       "      <td>0.0035</td>\n",
       "      <td>2.3630</td>\n",
       "      <td>NaN</td>\n",
       "      <td>NaN</td>\n",
       "      <td>NaN</td>\n",
       "      <td>NaN</td>\n",
       "    </tr>\n",
       "    <tr>\n",
       "      <th>1</th>\n",
       "      <td>3095.78</td>\n",
       "      <td>2465.14</td>\n",
       "      <td>2230.4222</td>\n",
       "      <td>1463.6606</td>\n",
       "      <td>0.8294</td>\n",
       "      <td>100.0</td>\n",
       "      <td>102.3433</td>\n",
       "      <td>0.1247</td>\n",
       "      <td>1.4966</td>\n",
       "      <td>-0.0005</td>\n",
       "      <td>...</td>\n",
       "      <td>0.0060</td>\n",
       "      <td>208.2045</td>\n",
       "      <td>0.5019</td>\n",
       "      <td>0.0223</td>\n",
       "      <td>0.0055</td>\n",
       "      <td>4.4447</td>\n",
       "      <td>0.0096</td>\n",
       "      <td>0.0201</td>\n",
       "      <td>0.0060</td>\n",
       "      <td>208.2045</td>\n",
       "    </tr>\n",
       "    <tr>\n",
       "      <th>2</th>\n",
       "      <td>2932.61</td>\n",
       "      <td>2559.94</td>\n",
       "      <td>2186.4111</td>\n",
       "      <td>1698.0172</td>\n",
       "      <td>1.5102</td>\n",
       "      <td>100.0</td>\n",
       "      <td>95.4878</td>\n",
       "      <td>0.1241</td>\n",
       "      <td>1.4436</td>\n",
       "      <td>0.0041</td>\n",
       "      <td>...</td>\n",
       "      <td>0.0148</td>\n",
       "      <td>82.8602</td>\n",
       "      <td>0.4958</td>\n",
       "      <td>0.0157</td>\n",
       "      <td>0.0039</td>\n",
       "      <td>3.1745</td>\n",
       "      <td>0.0584</td>\n",
       "      <td>0.0484</td>\n",
       "      <td>0.0148</td>\n",
       "      <td>82.8602</td>\n",
       "    </tr>\n",
       "    <tr>\n",
       "      <th>3</th>\n",
       "      <td>2988.72</td>\n",
       "      <td>2479.90</td>\n",
       "      <td>2199.0333</td>\n",
       "      <td>909.7926</td>\n",
       "      <td>1.3204</td>\n",
       "      <td>100.0</td>\n",
       "      <td>104.2367</td>\n",
       "      <td>0.1217</td>\n",
       "      <td>1.4882</td>\n",
       "      <td>-0.0124</td>\n",
       "      <td>...</td>\n",
       "      <td>0.0044</td>\n",
       "      <td>73.8432</td>\n",
       "      <td>0.4990</td>\n",
       "      <td>0.0103</td>\n",
       "      <td>0.0025</td>\n",
       "      <td>2.0544</td>\n",
       "      <td>0.0202</td>\n",
       "      <td>0.0149</td>\n",
       "      <td>0.0044</td>\n",
       "      <td>73.8432</td>\n",
       "    </tr>\n",
       "    <tr>\n",
       "      <th>4</th>\n",
       "      <td>3032.24</td>\n",
       "      <td>2502.87</td>\n",
       "      <td>2233.3667</td>\n",
       "      <td>1326.5200</td>\n",
       "      <td>1.5334</td>\n",
       "      <td>100.0</td>\n",
       "      <td>100.3967</td>\n",
       "      <td>0.1235</td>\n",
       "      <td>1.5031</td>\n",
       "      <td>-0.0031</td>\n",
       "      <td>...</td>\n",
       "      <td>NaN</td>\n",
       "      <td>NaN</td>\n",
       "      <td>0.4800</td>\n",
       "      <td>0.4766</td>\n",
       "      <td>0.1045</td>\n",
       "      <td>99.3032</td>\n",
       "      <td>0.0202</td>\n",
       "      <td>0.0149</td>\n",
       "      <td>0.0044</td>\n",
       "      <td>73.8432</td>\n",
       "    </tr>\n",
       "  </tbody>\n",
       "</table>\n",
       "<p>5 rows × 590 columns</p>\n",
       "</div>"
      ],
      "text/plain": [
       "       0        1          2          3       4      5         6       7    \\\n",
       "0  3030.93  2564.00  2187.7333  1411.1265  1.3602  100.0   97.6133  0.1242   \n",
       "1  3095.78  2465.14  2230.4222  1463.6606  0.8294  100.0  102.3433  0.1247   \n",
       "2  2932.61  2559.94  2186.4111  1698.0172  1.5102  100.0   95.4878  0.1241   \n",
       "3  2988.72  2479.90  2199.0333   909.7926  1.3204  100.0  104.2367  0.1217   \n",
       "4  3032.24  2502.87  2233.3667  1326.5200  1.5334  100.0  100.3967  0.1235   \n",
       "\n",
       "      8       9    ...     580       581     582     583     584      585  \\\n",
       "0  1.5005  0.0162  ...     NaN       NaN  0.5005  0.0118  0.0035   2.3630   \n",
       "1  1.4966 -0.0005  ...  0.0060  208.2045  0.5019  0.0223  0.0055   4.4447   \n",
       "2  1.4436  0.0041  ...  0.0148   82.8602  0.4958  0.0157  0.0039   3.1745   \n",
       "3  1.4882 -0.0124  ...  0.0044   73.8432  0.4990  0.0103  0.0025   2.0544   \n",
       "4  1.5031 -0.0031  ...     NaN       NaN  0.4800  0.4766  0.1045  99.3032   \n",
       "\n",
       "      586     587     588       589  \n",
       "0     NaN     NaN     NaN       NaN  \n",
       "1  0.0096  0.0201  0.0060  208.2045  \n",
       "2  0.0584  0.0484  0.0148   82.8602  \n",
       "3  0.0202  0.0149  0.0044   73.8432  \n",
       "4  0.0202  0.0149  0.0044   73.8432  \n",
       "\n",
       "[5 rows x 590 columns]"
      ]
     },
     "execution_count": 92,
     "metadata": {},
     "output_type": "execute_result"
    }
   ],
   "source": [
    "# Ajuste os caminhos para os arquivos antes de executar\n",
    "X = pd.read_csv('../data/raw/secom.data', sep=' ', header=None, na_values='NaN')\n",
    "y = pd.read_csv('../data/raw/secom_labels.data', sep=' ', header=None, usecols=[0])\n",
    "y = y[0]\n",
    "\n",
    "print(\"Shape X:\", X.shape)\n",
    "print(\"Shape y:\", y.shape)\n",
    "print(\"Classes:\", y.value_counts())\n",
    "\n",
    "X.head()"
   ]
  },
  {
   "cell_type": "code",
   "execution_count": 93,
   "id": "ffb4043e",
   "metadata": {},
   "outputs": [
    {
     "data": {
      "text/plain": [
       "157    0.911934\n",
       "292    0.911934\n",
       "293    0.911934\n",
       "158    0.911934\n",
       "492    0.855775\n",
       "358    0.855775\n",
       "220    0.855775\n",
       "85     0.855775\n",
       "517    0.649649\n",
       "518    0.649649\n",
       "383    0.649649\n",
       "111    0.649649\n",
       "109    0.649649\n",
       "246    0.649649\n",
       "382    0.649649\n",
       "384    0.649649\n",
       "245    0.649649\n",
       "110    0.649649\n",
       "244    0.649649\n",
       "516    0.649649\n",
       "580    0.605616\n",
       "581    0.605616\n",
       "579    0.605616\n",
       "578    0.605616\n",
       "72     0.506701\n",
       "73     0.506701\n",
       "346    0.506701\n",
       "345    0.506701\n",
       "112    0.456286\n",
       "247    0.456286\n",
       "385    0.456286\n",
       "519    0.456286\n",
       "566    0.174218\n",
       "564    0.174218\n",
       "567    0.174218\n",
       "562    0.174218\n",
       "563    0.174218\n",
       "569    0.174218\n",
       "568    0.174218\n",
       "565    0.174218\n",
       "dtype: float64"
      ]
     },
     "execution_count": 93,
     "metadata": {},
     "output_type": "execute_result"
    }
   ],
   "source": [
    "# Explorando quantidade de NA's em cada coluna\n",
    "X.isna().mean().sort_values(ascending=False).head(40)\n"
   ]
  },
  {
   "cell_type": "code",
   "execution_count": 94,
   "id": "97493408",
   "metadata": {},
   "outputs": [
    {
     "data": {
      "text/plain": [
       "count         590\n",
       "unique          1\n",
       "top       float64\n",
       "freq          590\n",
       "dtype: object"
      ]
     },
     "execution_count": 94,
     "metadata": {},
     "output_type": "execute_result"
    }
   ],
   "source": [
    "X.dtypes.describe()"
   ]
  },
  {
   "cell_type": "code",
   "execution_count": 95,
   "id": "a2ae3cb1",
   "metadata": {},
   "outputs": [],
   "source": [
    "# O split é feito ANTES de qualquer processamento para simular dados \"novos\" no teste\n",
    "X_train, X_test, y_train, y_test = train_test_split(X, y, test_size=0.2, stratify=y, random_state=42)"
   ]
  },
  {
   "cell_type": "markdown",
   "metadata": {},
   "source": [
    "## 2. Pré-processamento\n",
    "- Removendo variáveis com mais de 40% de valores faltantes\n",
    "- Imputação de valores faltantes (média)\n",
    "- Remoção de colunas constantes\n",
    "- Padronização (z-score)\n"
   ]
  },
  {
   "cell_type": "code",
   "execution_count": 96,
   "id": "207fcf42",
   "metadata": {},
   "outputs": [],
   "source": [
    "# Classe para remoção de colunas com 40 de NA\n",
    "\n",
    "class ColumnDropperByNa(BaseEstimator, TransformerMixin):\n",
    "    def __init__(self, threshold=0.4):\n",
    "        self.threshold = threshold\n",
    "        self.columns_to_keep_ = []\n",
    "\n",
    "    def fit(self, X, y=None):\n",
    "        # Aprende quais colunas manter APENAS dos dados de treino (X)\n",
    "        nan_frac = X.isna().mean()\n",
    "        self.columns_to_keep_ = X.columns[nan_frac < self.threshold].tolist()\n",
    "        return self\n",
    "\n",
    "    def transform(self, X, y=None):\n",
    "        # Aplica a transformação, mantendo apenas as colunas aprendidas\n",
    "        return X[self.columns_to_keep_]"
   ]
  },
  {
   "cell_type": "code",
   "execution_count": 97,
   "id": "d285823b",
   "metadata": {},
   "outputs": [
    {
     "name": "stdout",
     "output_type": "stream",
     "text": [
      "Shape antes: (1253, 590)\n",
      "Shape depois: (1253, 442)\n",
      "        0         1         2         3         4         5         6    \\\n",
      "0  0.838989 -0.069524 -0.514321 -0.432298 -0.052392  0.744212 -0.148706   \n",
      "1  0.787653 -0.089547  0.588034  0.090182 -0.030373  0.809944 -0.249296   \n",
      "2  0.045762  0.343685  0.030977 -1.180420 -0.038124  0.857170 -0.110985   \n",
      "3 -1.545221  0.911316  0.810785  0.837024 -0.024986 -0.725293  0.266225   \n",
      "4 -0.433825 -0.372486 -2.819976 -1.148082 -0.037714  0.848539  0.417109   \n",
      "\n",
      "        7         8         9    ...       432       433       434       435  \\\n",
      "0 -0.871008 -0.925512 -0.078733  ... -0.262093  0.031325 -0.753458 -0.139726   \n",
      "1  0.850722  0.509065 -1.348471  ... -0.247292 -0.433732  0.117012  0.848277   \n",
      "2 -1.253916  0.039687  0.545376  ... -0.240885  0.061823 -0.057082 -0.302641   \n",
      "3  1.774046 -1.004844  0.642220  ... -0.229964 -0.269297  0.117012  0.102020   \n",
      "4 -0.306150 -0.561910  0.050393  ... -0.254297 -0.177479 -0.405270  0.091509   \n",
      "\n",
      "        436       437       438       439       440       441  \n",
      "0 -0.140106 -0.131413  0.051378 -0.693524 -0.672949 -0.551638  \n",
      "1  0.658962  0.812032  0.899500 -1.282323 -1.108451 -0.878189  \n",
      "2 -0.309605 -0.289561  0.891499  0.837355  0.560974 -0.288842  \n",
      "3 -0.115892  0.095623 -0.132648  0.484075  0.306931  0.044061  \n",
      "4 -0.019035  0.090328  1.251550 -0.999700 -0.818116 -0.831027  \n",
      "\n",
      "[5 rows x 442 columns]\n"
     ]
    }
   ],
   "source": [
    "# Converta os nomes para string para evitar ambiguidades\n",
    "X_train.columns = X_train.columns.astype(str)\n",
    "\n",
    "# -----------------------\n",
    "# Criar pipeline de pré processamento inical\n",
    "# -----------------------\n",
    "\n",
    "preprocessor_pipeline = Pipeline(steps=[\n",
    "    ('remover_por_na', ColumnDropperByNa(threshold=0.4)),\n",
    "    ('imputer', SimpleImputer(strategy=\"median\")),\n",
    "    ('remover_constantes', VarianceThreshold()),\n",
    "    ('scaler', StandardScaler())\n",
    "])\n",
    "\n",
    "# -----------------------\n",
    "# Aplicar transformação aos dados\n",
    "# -----------------------\n",
    "X_train_transformed = preprocessor_pipeline.fit_transform(X_train)\n",
    "\n",
    "# Voltar para DataFrame\n",
    "X_train_prepared = pd.DataFrame(X_train_transformed)\n",
    "\n",
    "print(\"Shape antes:\", X_train.shape)\n",
    "print(\"Shape depois:\", X_train_prepared.shape)\n",
    "print(X_train_prepared.head())\n"
   ]
  },
  {
   "cell_type": "markdown",
   "metadata": {},
   "source": [
    "## 3. Redução de Dimensionalidade (PCA/LDA)\n",
    "Aplicaremos PCA para reduzir a dimensionalidade e visualizar os dados.\n"
   ]
  },
  {
   "cell_type": "code",
   "execution_count": 98,
   "metadata": {},
   "outputs": [
    {
     "data": {
      "image/png": "[encoded data removed]",
      "text/plain": [
       "<Figure size 800x600 with 1 Axes>"
      ]
     },
     "metadata": {},
     "output_type": "display_data"
    }
   ],
   "source": [
    "pca = PCA(n_components=2)\n",
    "X_pca = pca.fit_transform(X_train_prepared)\n",
    "\n",
    "plt.figure(figsize=(8,6))\n",
    "sns.scatterplot(x=X_pca[:,0], y=X_pca[:,1], hue=y_train, palette='coolwarm', alpha=0.7)\n",
    "plt.title('Projeção PCA (2 componentes)')\n",
    "plt.show()\n"
   ]
  },
  {
   "cell_type": "markdown",
   "id": "50020e8c",
   "metadata": {},
   "source": [
    "A análise via PCA demonstrou que as direções de maior variância nos dados não são as mesmas que separam eficientemente as classes de operação normal das falhas, resultando em uma sobreposição visual significativa. Isso ocorre porque o PCA é uma técnica não supervisionada, que ignora os rótulos ao projetar os dados. Diante disso, a utilização da Análise de Discriminante Linear (LDA) é a próxima etapa lógica. Diferentemente do PCA, o LDA é um método supervisionado cujo objetivo é encontrar a projeção dos dados que maximiza a separação entre as classes. Portanto, ao invés de buscar a variância, o LDA buscará o eixo que melhor distingue os grupos, o que pode revelar uma estrutura de separação que não era visível com o PCA."
   ]
  },
  {
   "cell_type": "code",
   "execution_count": 100,
   "id": "dc0e6feb",
   "metadata": {},
   "outputs": [
    {
     "data": {
      "image/png": "[encoded data removed]",
      "text/plain": [
       "<Figure size 563.75x500 with 1 Axes>"
      ]
     },
     "metadata": {},
     "output_type": "display_data"
    }
   ],
   "source": [
    "# Como há 2 classes, usamos n_components=1\n",
    "lda = LinearDiscriminantAnalysis(n_components=1)\n",
    "X_lda = lda.fit_transform(X_train_prepared, y_train) # Note que 'y' é passado aqui!\n",
    "\n",
    "# Para visualizar, podemos plotar a densidade de cada classe\n",
    "df_lda = pd.DataFrame({'LD1': X_lda.flatten(), 'label': y_train})\n",
    "sns.displot(df_lda, x='LD1', hue='label', kind='kde', fill=True)\n",
    "plt.title('Separação das Classes usando LDA')\n",
    "plt.show()"
   ]
  },
  {
   "cell_type": "markdown",
   "id": "fe4739f1",
   "metadata": {},
   "source": [
    "A análise com LDA (Análise de Discriminante Linear) foi bem-sucedida, demonstrando, ao contrário do PCA, que o problema é amplamente separável. A técnica projetou os dados de alta dimensão em um único eixo (LD1) no qual as duas classes apresentam distribuições claramente distintas: a classe normal (-1) forma um grupo denso e consistente, enquanto a classe de falha (1) se concentra em uma região separada, embora com maior variabilidade. Este resultado é extremamente promissor, pois confirma que um modelo de classificação pode aprender uma fronteira linear para distinguir os casos com alta eficácia, transformando um problema complexo em um que é visivelmente mais simples de resolver."
   ]
  },
  {
   "cell_type": "markdown",
   "metadata": {},
   "source": [
    "## 4. Modelagem\n",
    "Usaremos Logistic Regression, Random Forest e SVM.\n",
    "- Cada um com pelo menos 2 variações de hiperparâmetros via GridSearch.\n",
    "- Validação com Stratified 10-Fold Cross Validation.\n"
   ]
  },
  {
   "cell_type": "code",
   "execution_count": null,
   "metadata": {},
   "outputs": [],
   "source": [
    "#Definição da Validação Cruzada\n",
    "cv = StratifiedKFold(n_splits=10, shuffle=True, random_state=42)\n",
    "\n",
    "models_and_params = {\n",
    "    'LogisticRegression': {\n",
    "        'pipeline': Pipeline([('preprocessor', preprocessor_pipeline), ('model', LogisticRegression(max_iter=2000, random_state=42, class_weight='balanced'))]),\n",
    "        'params': {\n",
    "            'model__C': [0.01, 0.1, 1, 10],\n",
    "            'model__penalty': ['l2']\n",
    "        }\n",
    "    },\n",
    "    'RandomForest': {\n",
    "        'pipeline': Pipeline([('preprocessor', preprocessor_pipeline), ('model', RandomForestClassifier(random_state=42, class_weight='balanced'))]),\n",
    "        'params': {\n",
    "            'model__n_estimators': [100, 200],\n",
    "            'model__max_depth': [10, 20],\n",
    "            'model__min_samples_leaf': [1, 5]\n",
    "        }\n",
    "    },\n",
    "    'SVM': {\n",
    "        'pipeline': Pipeline([('preprocessor', preprocessor_pipeline), ('model', SVC(probability=True, random_state=42, class_weight='balanced'))]),\n",
    "        'params': {\n",
    "            'model__C': [0.1, 1, 10],\n",
    "            'model__kernel': ['linear', 'rbf'],\n",
    "            'model__gamma': ['scale', 'auto']\n",
    "        }\n",
    "    },\n",
    "    'LightGBM': {\n",
    "        'pipeline': Pipeline([('preprocessor', preprocessor_pipeline), ('model', LGBMClassifier(random_state=42))]),\n",
    "        'params': {\n",
    "            'model__n_estimators': [100, 200],\n",
    "            'model__learning_rate': [0.05, 0.1],\n",
    "            'model__scale_pos_weight': [10, 20, 30] # Ajustado para testar mais pesos\n",
    "        }\n",
    "    }\n",
    "}\n",
    "\n",
    "# Loop de Treinamento e Avaliação (Nenhuma mudança aqui)\n",
    "results = {}\n",
    "for name, config in models_and_params.items():\n",
    "    print(f\"\\nTreinando {name}...\")\n",
    "    grid = GridSearchCV(config['pipeline'], config['params'], cv=cv, scoring='roc_auc', n_jobs=-1, verbose=1)\n",
    "    \n",
    "    grid.fit(X_train, y_train)\n",
    "    \n",
    "    best_model = grid.best_estimator_\n",
    "    y_pred = best_model.predict(X_test)\n",
    "    y_prob = best_model.predict_proba(X_test)[:, 1]\n",
    "\n",
    "    results[name] = {\n",
    "        'best_score_cv': grid.best_score_,\n",
    "        'best_params': grid.best_params_,\n",
    "        'f1_test': f1_score(y_test, y_pred, pos_label=1),\n",
    "        'roc_auc_test': roc_auc_score(y_test, y_prob),\n",
    "        'balanced_accuracy_test': balanced_accuracy_score(y_test, y_pred),\n",
    "        'confusion_matrix_test': confusion_matrix(y_test, y_pred)\n",
    "    }\n",
    "    print(f\"Resultados para {name}:\")\n",
    "    print(results[name])\n"
   ]
  },
  {
   "cell_type": "markdown",
   "metadata": {},
   "source": [
    "## 5. Resultados e Comparação\n",
    "Aqui apresentamos os resultados de cada classificador no conjunto de teste.\n"
   ]
  },
  {
   "cell_type": "code",
   "execution_count": null,
   "metadata": {},
   "outputs": [],
   "source": [
    "for model, res in results.items():\n",
    "    print(f\"\\nModelo: {model}\")\n",
    "    print(\"Melhores parâmetros:\", res['best_params'])\n",
    "    print(\"Acurácia:\", res['accuracy'])\n",
    "    print(\"F1:\", res['f1'])\n",
    "    print(\"ROC-AUC:\", res['roc_auc'])\n",
    "    print(\"Balanced Accuracy:\", res['balanced_accuracy'])\n",
    "    print(\"Matriz de confusão:\\n\", res['confusion_matrix'])\n"
   ]
  },
  {
   "cell_type": "markdown",
   "metadata": {},
   "source": [
    "## 6. Conclusões\n",
    "Nesta seção você deverá comentar:\n",
    "- Qual modelo apresentou melhor desempenho.\n",
    "- Impacto da redução de dimensionalidade.\n",
    "- Qual métrica é mais relevante para o problema (considerando desbalanceamento).\n"
   ]
  }
 ],
 "metadata": {
  "kernelspec": {
   "display_name": ".venv",
   "language": "python",
   "name": "python3"
  },
  "language_info": {
   "codemirror_mode": {
    "name": "ipython",
    "version": 3
   },
   "file_extension": ".py",
   "mimetype": "text/x-python",
   "name": "python",
   "nbconvert_exporter": "python",
   "pygments_lexer": "ipython3",
   "version": "3.12.7"
  }
 },
 "nbformat": 4,
 "nbformat_minor": 5
}
